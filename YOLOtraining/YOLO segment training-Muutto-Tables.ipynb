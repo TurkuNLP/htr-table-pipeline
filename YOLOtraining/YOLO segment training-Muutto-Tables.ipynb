{
 "cells": [
  {
   "cell_type": "code",
   "execution_count": null,
   "id": "501743f5",
   "metadata": {},
   "outputs": [],
   "source": [
    "#!pip install --user git+https://github.com/ultralytics/ultralytics.git@main\n",
    "!pip install --user --upgrade ultralytics"
   ]
  },
  {
   "cell_type": "code",
   "execution_count": null,
   "id": "04304d92-ea38-4f63-9f6b-9092abc97691",
   "metadata": {},
   "outputs": [],
   "source": [
    "!pip install -U ray[tune]"
   ]
  },
  {
   "cell_type": "code",
   "execution_count": null,
   "id": "8309adbf",
   "metadata": {},
   "outputs": [],
   "source": [
    "import sys\n",
    "sys.path.append('/users/vesalaia/.local/lib/python3.9/site-packages/lib/python3.9/site-packages')\n",
    "%matplotlib inline\n",
    "import matplotlib.pyplot as plt\n",
    "from ultralytics import YOLO\n",
    "import os"
   ]
  },
  {
   "cell_type": "code",
   "execution_count": null,
   "id": "cb4dbe95",
   "metadata": {},
   "outputs": [],
   "source": [
    "model = YOLO(\"yolov8x-seg.pt\")"
   ]
  },
  {
   "cell_type": "code",
   "execution_count": null,
   "id": "95795c34",
   "metadata": {
    "scrolled": true
   },
   "outputs": [],
   "source": [
    "\n",
    "results = model.train(\n",
    "        batch=4,\n",
    "        device=\"cuda\",\n",
    "        data=\"/scratch/project_2005488/Muutto/muutto-reg.yaml\",\n",
    "        epochs=100,\n",
    "        imgsz=640\n",
    "    )"
   ]
  },
  {
   "cell_type": "code",
   "execution_count": null,
   "id": "5c84ce35",
   "metadata": {},
   "outputs": [],
   "source": [
    "best_saved_model = \"/users/vesalaia/1 YOLOv8/runs/segment/train3/weights/best.pt\" \n",
    "model = YOLO(best_saved_model)"
   ]
  },
  {
   "cell_type": "code",
   "execution_count": null,
   "id": "18465024",
   "metadata": {},
   "outputs": [],
   "source": [
    "from PIL import Image\n",
    "import cv2\n",
    "import numpy as np\n",
    "import matplotlib.pyplot as plt"
   ]
  },
  {
   "cell_type": "code",
   "execution_count": null,
   "id": "bcf8b117",
   "metadata": {},
   "outputs": [],
   "source": [
    "device = \"cuda\"\n",
    "def predict_image(model, imagepath, yolo=False):\n",
    "    \n",
    "    image = cv2.imread(imagepath)\n",
    "    height, width, channels = image.shape\n",
    "\n",
    "    if not yolo: # Unet, Unet++, Mask R-CNN\n",
    "        mean=[0.485, 0.456, 0.406]\n",
    "        std=[0.229, 0.224, 0.225]    \n",
    "        model.eval()\n",
    "        image = convert_from_cv2_to_image(image)\n",
    "        t = T.Compose([T.Resize((1024,1024)), T.ToTensor(), T.Normalize(mean, std)])\n",
    "        image = t(image)\n",
    "        model.to(device);\n",
    "        image=image.to(device)\n",
    "        with torch.no_grad():  \n",
    "            image = image.unsqueeze(0)\n",
    "            output = model(image)\n",
    "    else:\n",
    "        imgsz = (640,640)\n",
    "        resized_img = cv2.resize(image, imgsz)\n",
    "        results = model.predict(resized_img)\n",
    "        output = results[0]\n",
    "    return output, height, width"
   ]
  },
  {
   "cell_type": "code",
   "execution_count": null,
   "id": "c432609a",
   "metadata": {},
   "outputs": [],
   "source": [
    "imgsz =(640,640)\n",
    "#image_path = '/scratch/project_2005488/Henkikirjataulukot/Tiedosto 100.jpg'\n",
    "#image_path = \"/scratch/project_2005488/McGill/1778_history-england-invasion-caesar_DA30H91778_v1_original/rbsc_hume_history-england-invasion-caesar_DA30H91778_v1-0101.jpg\"\n",
    "test_dir = \"/scratch/project_2005488/Muutto/Test\"\n",
    "files = [x for x in os.listdir(test_dir) if x.endswith(\".jpg\")]\n",
    "for i, filename in enumerate(files):\n",
    "    image_path = os.path.join(test_dir, filename)\n",
    "\n",
    "    img = cv2.imread(image_path)\n",
    "    result, o_rows, o_cols = predict_image(model, image_path, yolo=True)\n",
    "    for box in result.boxes:\n",
    "        if box.conf[0].item() >= 0.4:\n",
    "            class_id = result.names[box.cls[0].item()]\n",
    "            coords = box.xyxy[0].tolist()\n",
    "            coords = [coords[0] * o_cols/imgsz[0], \n",
    "                      coords[1] * o_rows/imgsz[1], \n",
    "                      coords[2] * o_cols / imgsz[0],\n",
    "                      coords[3] * o_rows /imgsz[1]]\n",
    "            coords = [round(x) for x in coords]\n",
    "            start_point = (coords[0],coords[1])\n",
    "            end_point = (coords[2],coords[3])\n",
    "            cv2.rectangle(img, start_point, end_point, color=(255,0,0),thickness=2)\n",
    "            conf = round(box.conf[0].item(), 2)\n",
    "            #print(\"Object type:\", class_id)\n",
    "            #print(\"Coordinates:\", coords)\n",
    "            #print(\"Probability:\", conf)\n",
    "            #print(\"---\")\n",
    "    plt.figure(figsize=(10, 16))\n",
    "    cv2.imwrite(\"Yolo_regions_{}.jpg\".format(i),img) \n",
    "    plt.imshow(img)\n",
    "    plt.show()"
   ]
  },
  {
   "cell_type": "code",
   "execution_count": null,
   "id": "eaf1232f",
   "metadata": {},
   "outputs": [],
   "source": []
  }
 ],
 "metadata": {
  "kernelspec": {
   "display_name": "Python 3 (ipykernel)",
   "language": "python",
   "name": "python3"
  },
  "language_info": {
   "codemirror_mode": {
    "name": "ipython",
    "version": 3
   },
   "file_extension": ".py",
   "mimetype": "text/x-python",
   "name": "python",
   "nbconvert_exporter": "python",
   "pygments_lexer": "ipython3",
   "version": "3.9.18"
  }
 },
 "nbformat": 4,
 "nbformat_minor": 5
}
